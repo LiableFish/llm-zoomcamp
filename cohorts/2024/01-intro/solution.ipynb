{
 "cells": [
  {
   "metadata": {},
   "cell_type": "markdown",
   "source": "## Q1. Running Elastic ",
   "id": "fe35bedecb4472cd"
  },
  {
   "metadata": {},
   "cell_type": "markdown",
   "source": [
    "```\n",
    "docker run -it \\\n",
    "    --rm \\\n",
    "    --name elasticsearch \\\n",
    "    -p 9200:9200 \\\n",
    "    -p 9300:9300 \\\n",
    "    -e \"discovery.type=single-node\" \\\n",
    "    -e \"xpack.security.enabled=false\" \\\n",
    "    docker.elastic.co/elasticsearch/elasticsearch:8.4.3\n",
    "```"
   ],
   "id": "ec5e681e6be32860"
  },
  {
   "metadata": {
    "ExecuteTime": {
     "end_time": "2024-06-24T06:27:57.622762Z",
     "start_time": "2024-06-24T06:27:57.470544Z"
    }
   },
   "cell_type": "code",
   "source": "!curl localhost:9200 > elastic_cluster_info.json",
   "id": "a09bee1187fba1ce",
   "outputs": [
    {
     "name": "stdout",
     "output_type": "stream",
     "text": [
      "  % Total    % Received % Xferd  Average Speed   Time    Time     Time  Current\r\n",
      "                                 Dload  Upload   Total   Spent    Left  Speed\r\n",
      "100   539  100   539    0     0  19177      0 --:--:-- --:--:-- --:--:-- 24500\r\n"
     ]
    }
   ],
   "execution_count": 3
  },
  {
   "metadata": {
    "ExecuteTime": {
     "end_time": "2024-06-24T06:28:19.713787Z",
     "start_time": "2024-06-24T06:28:19.711117Z"
    }
   },
   "cell_type": "code",
   "source": [
    "import json\n",
    "\n",
    "with open('elastic_cluster_info.json') as f:\n",
    "    elastic_cluster_info = json.load(f)\n",
    "    "
   ],
   "id": "6731c0d40393e9e1",
   "outputs": [],
   "execution_count": 6
  },
  {
   "metadata": {
    "ExecuteTime": {
     "end_time": "2024-06-24T06:28:36.777774Z",
     "start_time": "2024-06-24T06:28:36.775168Z"
    }
   },
   "cell_type": "code",
   "source": "elastic_cluster_info[\"version\"][\"build_hash\"]",
   "id": "41fc824c0e4f6a9d",
   "outputs": [
    {
     "data": {
      "text/plain": [
       "'42f05b9372a9a4a470db3b52817899b99a76ee73'"
      ]
     },
     "execution_count": 8,
     "metadata": {},
     "output_type": "execute_result"
    }
   ],
   "execution_count": 8
  },
  {
   "metadata": {
    "ExecuteTime": {
     "end_time": "2024-06-24T06:30:24.426087Z",
     "start_time": "2024-06-24T06:30:23.511143Z"
    }
   },
   "cell_type": "code",
   "source": [
    "import requests \n",
    "\n",
    "docs_url = 'https://github.com/DataTalksClub/llm-zoomcamp/blob/main/01-intro/documents.json?raw=1'\n",
    "docs_response = requests.get(docs_url)\n",
    "documents_raw = docs_response.json()\n",
    "\n",
    "documents = []\n",
    "\n",
    "for course in documents_raw:\n",
    "    course_name = course['course']\n",
    "\n",
    "    for doc in course['documents']:\n",
    "        doc['course'] = course_name\n",
    "        documents.append(doc)"
   ],
   "id": "a727b0082f3ed262",
   "outputs": [],
   "execution_count": 9
  },
  {
   "metadata": {
    "ExecuteTime": {
     "end_time": "2024-06-24T06:30:38.391677Z",
     "start_time": "2024-06-24T06:30:38.388762Z"
    }
   },
   "cell_type": "code",
   "source": "documents[0]",
   "id": "7f09663ddbbde2fd",
   "outputs": [
    {
     "data": {
      "text/plain": [
       "{'text': \"The purpose of this document is to capture frequently asked technical questions\\nThe exact day and hour of the course will be 15th Jan 2024 at 17h00. The course will start with the first  “Office Hours'' live.1\\nSubscribe to course public Google Calendar (it works from Desktop only).\\nRegister before the course starts using this link.\\nJoin the course Telegram channel with announcements.\\nDon’t forget to register in DataTalks.Club's Slack and join the channel.\",\n",
       " 'section': 'General course-related questions',\n",
       " 'question': 'Course - When will the course start?',\n",
       " 'course': 'data-engineering-zoomcamp'}"
      ]
     },
     "execution_count": 12,
     "metadata": {},
     "output_type": "execute_result"
    }
   ],
   "execution_count": 12
  },
  {
   "metadata": {
    "ExecuteTime": {
     "end_time": "2024-06-24T06:32:32.725613Z",
     "start_time": "2024-06-24T06:32:32.722763Z"
    }
   },
   "cell_type": "code",
   "source": "documents[0].keys()",
   "id": "ea2698a40c974f8a",
   "outputs": [
    {
     "data": {
      "text/plain": [
       "dict_keys(['text', 'section', 'question', 'course'])"
      ]
     },
     "execution_count": 15,
     "metadata": {},
     "output_type": "execute_result"
    }
   ],
   "execution_count": 15
  },
  {
   "metadata": {},
   "cell_type": "markdown",
   "source": "## Q2. Indexing the data",
   "id": "bbd5e0ac82a99bfe"
  },
  {
   "metadata": {
    "ExecuteTime": {
     "end_time": "2024-06-24T06:32:12.533446Z",
     "start_time": "2024-06-24T06:32:12.438813Z"
    }
   },
   "cell_type": "code",
   "source": "from elasticsearch import Elasticsearch",
   "id": "e216b22556ac1464",
   "outputs": [],
   "execution_count": 13
  },
  {
   "metadata": {
    "ExecuteTime": {
     "end_time": "2024-06-24T06:32:13.439360Z",
     "start_time": "2024-06-24T06:32:13.435626Z"
    }
   },
   "cell_type": "code",
   "source": "es_client = Elasticsearch('http://localhost:9200') ",
   "id": "dfabeafb1609e4d8",
   "outputs": [],
   "execution_count": 14
  },
  {
   "metadata": {
    "ExecuteTime": {
     "end_time": "2024-06-24T06:33:13.129622Z",
     "start_time": "2024-06-24T06:33:13.039200Z"
    }
   },
   "cell_type": "code",
   "source": [
    "index_settings = {\n",
    "    \"settings\": {\n",
    "        \"number_of_shards\": 1,\n",
    "        \"number_of_replicas\": 0\n",
    "    },\n",
    "    \"mappings\": {\n",
    "        \"properties\": {\n",
    "            \"text\": {\"type\": \"text\"},\n",
    "            \"section\": {\"type\": \"text\"},\n",
    "            \"question\": {\"type\": \"text\"},\n",
    "            \"course\": {\"type\": \"keyword\"} \n",
    "        }\n",
    "    }\n",
    "}\n",
    "\n",
    "index_name = \"course-questions\"\n",
    "\n",
    "es_client.indices.create(index=index_name, body=index_settings)"
   ],
   "id": "31641337dae708aa",
   "outputs": [
    {
     "data": {
      "text/plain": [
       "ObjectApiResponse({'acknowledged': True, 'shards_acknowledged': True, 'index': 'course-questions'})"
      ]
     },
     "execution_count": 16,
     "metadata": {},
     "output_type": "execute_result"
    }
   ],
   "execution_count": 16
  },
  {
   "metadata": {
    "ExecuteTime": {
     "end_time": "2024-06-24T06:34:59.220742Z",
     "start_time": "2024-06-24T06:34:55.677713Z"
    }
   },
   "cell_type": "code",
   "source": [
    "from tqdm.auto import tqdm\n",
    "\n",
    "for doc in tqdm(documents):\n",
    "    es_client.index(index=index_name, document=doc)"
   ],
   "id": "9e2382376452f02f",
   "outputs": [
    {
     "name": "stderr",
     "output_type": "stream",
     "text": [
      "/Users/liablefish/github/llm-zoomcamp/.venv/lib/python3.8/site-packages/tqdm/auto.py:21: TqdmWarning: IProgress not found. Please update jupyter and ipywidgets. See https://ipywidgets.readthedocs.io/en/stable/user_install.html\n",
      "  from .autonotebook import tqdm as notebook_tqdm\n",
      "100%|██████████| 948/948 [00:03<00:00, 269.36it/s]\n"
     ]
    }
   ],
   "execution_count": 17
  },
  {
   "metadata": {},
   "cell_type": "markdown",
   "source": "## Q3. Searching",
   "id": "fe76cdfd5804b03d"
  },
  {
   "metadata": {
    "ExecuteTime": {
     "end_time": "2024-06-24T06:54:43.523734Z",
     "start_time": "2024-06-24T06:54:43.521955Z"
    }
   },
   "cell_type": "code",
   "source": "query = \"How do I execute a command in a running docker container?\"",
   "id": "a7168b9f995c6f65",
   "outputs": [],
   "execution_count": 48
  },
  {
   "metadata": {
    "ExecuteTime": {
     "end_time": "2024-06-24T06:54:43.762286Z",
     "start_time": "2024-06-24T06:54:43.758041Z"
    }
   },
   "cell_type": "code",
   "source": [
    "from typing import Optional\n",
    "\n",
    "def elastic_search(query, size: int = 1, course: Optional[str] = None):\n",
    "    search_query = {\n",
    "        \"size\": size,\n",
    "        \"query\": {\n",
    "            \"bool\": {\n",
    "                \"must\": {\n",
    "                    \"multi_match\": {\n",
    "                        \"query\": query,\n",
    "                        \"fields\": [\"question^4\", \"text\"],\n",
    "                        \"type\": \"best_fields\"\n",
    "                    }\n",
    "                },\n",
    "            },\n",
    "        },\n",
    "    }\n",
    "    if course is not None:\n",
    "        search_query[\"query\"][\"bool\"][\"filter\"] = {\"term\": {\"course\": course}}\n",
    "\n",
    "    response = es_client.search(index=index_name, body=search_query)\n",
    "    return response['hits']['hits']"
   ],
   "id": "665df856184e2047",
   "outputs": [],
   "execution_count": 49
  },
  {
   "metadata": {
    "ExecuteTime": {
     "end_time": "2024-06-24T06:54:44.116207Z",
     "start_time": "2024-06-24T06:54:44.087667Z"
    }
   },
   "cell_type": "code",
   "source": "elastic_search(query)",
   "id": "cd6dbb0dd985e487",
   "outputs": [
    {
     "data": {
      "text/plain": [
       "[{'_index': 'course-questions',\n",
       "  '_id': 'U_30SJABFUvEoHZZcNKf',\n",
       "  '_score': 84.050095,\n",
       "  '_source': {'text': 'Launch the container image in interactive mode and overriding the entrypoint, so that it starts a bash command.\\ndocker run -it --entrypoint bash <image>\\nIf the container is already running, execute a command in the specific container:\\ndocker ps (find the container-id)\\ndocker exec -it <container-id> bash\\n(Marcos MJD)',\n",
       "   'section': '5. Deploying Machine Learning Models',\n",
       "   'question': 'How do I debug a docker container?',\n",
       "   'course': 'machine-learning-zoomcamp'}}]"
      ]
     },
     "execution_count": 50,
     "metadata": {},
     "output_type": "execute_result"
    }
   ],
   "execution_count": 50
  },
  {
   "metadata": {},
   "cell_type": "markdown",
   "source": "## Q4. Filtering",
   "id": "b4b1c4fc77e0bfcc"
  },
  {
   "metadata": {
    "ExecuteTime": {
     "end_time": "2024-06-24T06:54:51.519409Z",
     "start_time": "2024-06-24T06:54:51.491304Z"
    }
   },
   "cell_type": "code",
   "source": [
    "results = elastic_search(\n",
    "    query,\n",
    "    size=3, \n",
    "    course=\"machine-learning-zoomcamp\",\n",
    ")"
   ],
   "id": "82e9ee7a8eb0a562",
   "outputs": [],
   "execution_count": 51
  },
  {
   "metadata": {
    "ExecuteTime": {
     "end_time": "2024-06-24T06:54:51.751190Z",
     "start_time": "2024-06-24T06:54:51.748062Z"
    }
   },
   "cell_type": "code",
   "source": "results[-1]",
   "id": "4e7180d23e81360d",
   "outputs": [
    {
     "data": {
      "text/plain": [
       "{'_index': 'course-questions',\n",
       " '_id': 'c_30SJABFUvEoHZZcdIC',\n",
       " '_score': 49.938507,\n",
       " '_source': {'text': 'You can copy files from your local machine into a Docker container using the docker cp command. Here\\'s how to do it:\\nIn the Dockerfile, you can provide the folder containing the files that you want to copy over. The basic syntax is as follows:\\nCOPY [\"src/predict.py\", \"models/xgb_model.bin\", \"./\"]\\t\\t\\t\\t\\t\\t\\t\\t\\t\\t\\tGopakumar Gopinathan',\n",
       "  'section': '5. Deploying Machine Learning Models',\n",
       "  'question': 'How do I copy files from a different folder into docker container’s working directory?',\n",
       "  'course': 'machine-learning-zoomcamp'}}"
      ]
     },
     "execution_count": 52,
     "metadata": {},
     "output_type": "execute_result"
    }
   ],
   "execution_count": 52
  },
  {
   "metadata": {},
   "cell_type": "markdown",
   "source": "## Q5. Building a prompt",
   "id": "e5aebcfd13ff9da9"
  },
  {
   "metadata": {
    "ExecuteTime": {
     "end_time": "2024-06-24T06:54:52.824499Z",
     "start_time": "2024-06-24T06:54:52.822635Z"
    }
   },
   "cell_type": "code",
   "source": [
    "context_template = \"\"\"\n",
    "Q: {question}\n",
    "A: {text}\n",
    "\"\"\".strip()"
   ],
   "id": "5ad890f036de586d",
   "outputs": [],
   "execution_count": 53
  },
  {
   "metadata": {
    "ExecuteTime": {
     "end_time": "2024-06-24T06:54:53.774447Z",
     "start_time": "2024-06-24T06:54:53.771135Z"
    }
   },
   "cell_type": "code",
   "source": [
    "context = \"\\n\\n\".join(\n",
    "    context_template.format(question=doc[\"_source\"][\"question\"], text=doc[\"_source\"][\"text\"]) \n",
    "    for doc in results\n",
    ")"
   ],
   "id": "458ac6876d8833fb",
   "outputs": [],
   "execution_count": 54
  },
  {
   "metadata": {
    "ExecuteTime": {
     "end_time": "2024-06-24T06:54:54.627819Z",
     "start_time": "2024-06-24T06:54:54.624296Z"
    }
   },
   "cell_type": "code",
   "source": "print(context)",
   "id": "7ff0dbfc4e589162",
   "outputs": [
    {
     "name": "stdout",
     "output_type": "stream",
     "text": [
      "Q: How do I debug a docker container?\n",
      "A: Launch the container image in interactive mode and overriding the entrypoint, so that it starts a bash command.\n",
      "docker run -it --entrypoint bash <image>\n",
      "If the container is already running, execute a command in the specific container:\n",
      "docker ps (find the container-id)\n",
      "docker exec -it <container-id> bash\n",
      "(Marcos MJD)\n",
      "\n",
      "Q: How do I copy files from my local machine to docker container?\n",
      "A: You can copy files from your local machine into a Docker container using the docker cp command. Here's how to do it:\n",
      "To copy a file or directory from your local machine into a running Docker container, you can use the `docker cp command`. The basic syntax is as follows:\n",
      "docker cp /path/to/local/file_or_directory container_id:/path/in/container\n",
      "Hrithik Kumar Advani\n",
      "\n",
      "Q: How do I copy files from a different folder into docker container’s working directory?\n",
      "A: You can copy files from your local machine into a Docker container using the docker cp command. Here's how to do it:\n",
      "In the Dockerfile, you can provide the folder containing the files that you want to copy over. The basic syntax is as follows:\n",
      "COPY [\"src/predict.py\", \"models/xgb_model.bin\", \"./\"]\t\t\t\t\t\t\t\t\t\t\tGopakumar Gopinathan\n"
     ]
    }
   ],
   "execution_count": 55
  },
  {
   "metadata": {
    "ExecuteTime": {
     "end_time": "2024-06-24T06:54:58.529820Z",
     "start_time": "2024-06-24T06:54:58.527487Z"
    }
   },
   "cell_type": "code",
   "source": [
    "prompt_template = \"\"\"\n",
    "You're a course teaching assistant. Answer the QUESTION based on the CONTEXT from the FAQ database.\n",
    "Use only the facts from the CONTEXT when answering the QUESTION.\n",
    "\n",
    "QUESTION: {question}\n",
    "\n",
    "CONTEXT:\n",
    "{context}\n",
    "\"\"\".strip()"
   ],
   "id": "3cd771a50152eb14",
   "outputs": [],
   "execution_count": 56
  },
  {
   "metadata": {
    "ExecuteTime": {
     "end_time": "2024-06-24T06:55:09.502480Z",
     "start_time": "2024-06-24T06:55:09.499886Z"
    }
   },
   "cell_type": "code",
   "source": "prompt = prompt_template.format(question=query, context=context)",
   "id": "828071bd656e63a0",
   "outputs": [],
   "execution_count": 57
  },
  {
   "metadata": {
    "ExecuteTime": {
     "end_time": "2024-06-24T06:55:36.077620Z",
     "start_time": "2024-06-24T06:55:36.075305Z"
    }
   },
   "cell_type": "code",
   "source": "print(prompt)",
   "id": "979a412568831112",
   "outputs": [
    {
     "name": "stdout",
     "output_type": "stream",
     "text": [
      "You're a course teaching assistant. Answer the QUESTION based on the CONTEXT from the FAQ database.\n",
      "Use only the facts from the CONTEXT when answering the QUESTION.\n",
      "\n",
      "QUESTION: How do I execute a command in a running docker container?\n",
      "\n",
      "CONTEXT:\n",
      "Q: How do I debug a docker container?\n",
      "A: Launch the container image in interactive mode and overriding the entrypoint, so that it starts a bash command.\n",
      "docker run -it --entrypoint bash <image>\n",
      "If the container is already running, execute a command in the specific container:\n",
      "docker ps (find the container-id)\n",
      "docker exec -it <container-id> bash\n",
      "(Marcos MJD)\n",
      "\n",
      "Q: How do I copy files from my local machine to docker container?\n",
      "A: You can copy files from your local machine into a Docker container using the docker cp command. Here's how to do it:\n",
      "To copy a file or directory from your local machine into a running Docker container, you can use the `docker cp command`. The basic syntax is as follows:\n",
      "docker cp /path/to/local/file_or_directory container_id:/path/in/container\n",
      "Hrithik Kumar Advani\n",
      "\n",
      "Q: How do I copy files from a different folder into docker container’s working directory?\n",
      "A: You can copy files from your local machine into a Docker container using the docker cp command. Here's how to do it:\n",
      "In the Dockerfile, you can provide the folder containing the files that you want to copy over. The basic syntax is as follows:\n",
      "COPY [\"src/predict.py\", \"models/xgb_model.bin\", \"./\"]\t\t\t\t\t\t\t\t\t\t\tGopakumar Gopinathan\n"
     ]
    }
   ],
   "execution_count": 59
  },
  {
   "metadata": {
    "ExecuteTime": {
     "end_time": "2024-06-24T06:55:39.434528Z",
     "start_time": "2024-06-24T06:55:39.431359Z"
    }
   },
   "cell_type": "code",
   "source": "len(prompt)",
   "id": "99d75bca61fd3233",
   "outputs": [
    {
     "data": {
      "text/plain": [
       "1462"
      ]
     },
     "execution_count": 60,
     "metadata": {},
     "output_type": "execute_result"
    }
   ],
   "execution_count": 60
  },
  {
   "metadata": {},
   "cell_type": "markdown",
   "source": "## Q6. Tokens",
   "id": "7580e6a87da817aa"
  },
  {
   "metadata": {
    "ExecuteTime": {
     "end_time": "2024-06-24T06:57:39.436770Z",
     "start_time": "2024-06-24T06:57:39.433821Z"
    }
   },
   "cell_type": "code",
   "source": "# pip install tiktoken",
   "id": "7cd035b9c34407d3",
   "outputs": [],
   "execution_count": 62
  },
  {
   "metadata": {
    "ExecuteTime": {
     "end_time": "2024-06-24T06:57:53.615620Z",
     "start_time": "2024-06-24T06:57:50.492128Z"
    }
   },
   "cell_type": "code",
   "source": [
    "import tiktoken\n",
    "encoding = tiktoken.encoding_for_model(\"gpt-4o\")"
   ],
   "id": "b65389f0573f8d8f",
   "outputs": [],
   "execution_count": 64
  },
  {
   "metadata": {
    "ExecuteTime": {
     "end_time": "2024-06-24T06:58:09.750842Z",
     "start_time": "2024-06-24T06:58:09.747982Z"
    }
   },
   "cell_type": "code",
   "source": "len(encoding.encode(prompt))",
   "id": "ec864ab9bdf18e66",
   "outputs": [
    {
     "data": {
      "text/plain": [
       "322"
      ]
     },
     "execution_count": 66,
     "metadata": {},
     "output_type": "execute_result"
    }
   ],
   "execution_count": 66
  },
  {
   "metadata": {},
   "cell_type": "markdown",
   "source": "## Bonus: generating the answer (ungraded)",
   "id": "b64c70da3fcbf08a"
  },
  {
   "metadata": {
    "ExecuteTime": {
     "end_time": "2024-06-24T07:07:21.937710Z",
     "start_time": "2024-06-24T07:07:19.411510Z"
    }
   },
   "cell_type": "code",
   "source": [
    "response = requests.post(\n",
    "    \"http://localhost:11434/api/generate\", \n",
    "    json={\n",
    "      \"model\": \"llama3:8b\",\n",
    "      \"prompt\": prompt,\n",
    "    },\n",
    ")"
   ],
   "id": "d5302680bba7fcaa",
   "outputs": [],
   "execution_count": 86
  },
  {
   "metadata": {
    "ExecuteTime": {
     "end_time": "2024-06-24T07:08:24.086517Z",
     "start_time": "2024-06-24T07:08:24.083722Z"
    }
   },
   "cell_type": "code",
   "source": "outputs = [json.loads(text) for text in response.text.strip().split(\"\\n\")]",
   "id": "c751f99b7306ffa8",
   "outputs": [],
   "execution_count": 94
  },
  {
   "metadata": {
    "ExecuteTime": {
     "end_time": "2024-06-24T07:09:29.009283Z",
     "start_time": "2024-06-24T07:09:29.006947Z"
    }
   },
   "cell_type": "code",
   "source": "print(\"\".join(out[\"response\"] for out in outputs))",
   "id": "caaa566d6ab31a6f",
   "outputs": [
    {
     "name": "stdout",
     "output_type": "stream",
     "text": [
      "Based on the provided context, to execute a command in a running Docker container, you can use the following command:\n",
      "\n",
      "`docker exec -it <container-id> bash`\n",
      "\n",
      "Replace `<container-id>` with the actual ID of your running Docker container, which you can find using `docker ps`. This will open a new shell session within the running container.\n"
     ]
    }
   ],
   "execution_count": 105
  },
  {
   "metadata": {},
   "cell_type": "code",
   "outputs": [],
   "execution_count": null,
   "source": "",
   "id": "617fbc634434d1c8"
  }
 ],
 "metadata": {
  "kernelspec": {
   "display_name": "Python 3",
   "language": "python",
   "name": "python3"
  },
  "language_info": {
   "codemirror_mode": {
    "name": "ipython",
    "version": 2
   },
   "file_extension": ".py",
   "mimetype": "text/x-python",
   "name": "python",
   "nbconvert_exporter": "python",
   "pygments_lexer": "ipython2",
   "version": "2.7.6"
  }
 },
 "nbformat": 4,
 "nbformat_minor": 5
}
